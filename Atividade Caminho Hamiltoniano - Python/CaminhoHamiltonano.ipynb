{
  "nbformat": 4,
  "nbformat_minor": 0,
  "metadata": {
    "colab": {
      "provenance": []
    },
    "kernelspec": {
      "name": "python3",
      "display_name": "Python 3"
    },
    "language_info": {
      "name": "python"
    }
  },
  "cells": [
    {
      "cell_type": "code",
      "execution_count": null,
      "metadata": {
        "id": "_WdWF45213SM"
      },
      "outputs": [],
      "source": [
        "def achar_caminho_hamiltoniano(n):\n",
        "    grafo = [[0 for _ in range(n)] for _ in range(n)]  # Cria uma matriz de adjacência para o grafo completo\n",
        "\n",
        "    # Preenche a matriz de adjacência para um grafo completo\n",
        "    for a in range(n):\n",
        "        for b in range(a + 1, n):\n",
        "            grafo[a][b] = 1\n",
        "            grafo[b][a] = 1\n",
        "\n",
        "    path = [0]  # Começa com o vértice inicial '0'\n",
        "    vertice_visitado = [False] * n  # Marca os vértices visitados\n",
        "\n",
        "    # Função recursiva para encontrar os caminhos hamiltonianos\n",
        "    def hamiltonian_util(vertex, path, vertice_visitado):\n",
        "        if vertex == 0 and len(path) == n:  # Verifica se retornou ao vértice inicial\n",
        "            print(path)  # Imprime o caminho hamiltoniano\n",
        "            return 1\n",
        "\n",
        "        count = 0\n",
        "\n",
        "        for v in range(n):\n",
        "\n",
        "            if grafo[vertex][v] == 1 and not vertice_visitado[v]:\n",
        "                vertice_visitado[v] = True\n",
        "                path.append(v)\n",
        "                count += hamiltonian_util(v, path, vertice_visitado)\n",
        "                vertice_visitado[v] = False\n",
        "                path.pop()\n",
        "\n",
        "        return count\n",
        "\n",
        "    count = hamiltonian_util(0, path, vertice_visitado)\n",
        "    print(\"Número total de caminhos hamiltonianos:\", count)\n",
        "\n",
        "\n",
        "# Exemplo de uso\n",
        "n = int(input(\"Digite o número de vértices: \"))\n",
        "achar_caminho_hamiltoniano(n)"
      ]
    }
  ]
}