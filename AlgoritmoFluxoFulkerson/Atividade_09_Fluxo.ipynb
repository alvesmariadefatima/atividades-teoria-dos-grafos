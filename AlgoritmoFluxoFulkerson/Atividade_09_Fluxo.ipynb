{
  "nbformat": 4,
  "nbformat_minor": 0,
  "metadata": {
    "colab": {
      "provenance": []
    },
    "kernelspec": {
      "name": "python3",
      "display_name": "Python 3"
    },
    "language_info": {
      "name": "python"
    }
  },
  "cells": [
    {
      "cell_type": "code",
      "execution_count": 64,
      "metadata": {
        "id": "lnXnH5NP2EUr"
      },
      "outputs": [],
      "source": [
        "def BFS(C, s, t, n):\n",
        "  F = []\n",
        "  p = []\n",
        "  for i in range(n):\n",
        "    p.append(-1)\n",
        "  p[s] = s\n",
        "  F.append(s)\n",
        "  while len(F) > 0:\n",
        "    v = F.pop(0);\n",
        "    for w in range(n):\n",
        "      if C[v][w] > 0 and p[w] == -1:\n",
        "        p[w] = v\n",
        "        F.append(w)\n",
        "  return p"
      ]
    },
    {
      "cell_type": "code",
      "source": [
        "def fulkerson(C, s, t, n):\n",
        "    f = []\n",
        "    Cr = []\n",
        "    for i in range(n):\n",
        "        f.append(n * [0])\n",
        "        Cr.append(n * [0])\n",
        "    for u in range(n):\n",
        "        for v in range(n):\n",
        "            Cr[u][v] = C[u][v] - f[u][v]\n",
        "    F = 0\n",
        "    p = BFS(Cr, s, t, n)\n",
        "    while p[t] != -1:\n",
        "    # calcula r minimo de p\n",
        "      r = float('inf')\n",
        "\n",
        "      v = t\n",
        "      u = t\n",
        "\n",
        "      while u != s:\n",
        "\n",
        "        u = p[v]\n",
        "        print(Cr[u][v])\n",
        "        if Cr[u][v] < r:\n",
        "              r = Cr[u][v]\n",
        "        v = u\n",
        "    # atualiza as estruturas para todo caminho de p\n",
        "      v = t\n",
        "      u = t\n",
        "\n",
        "      while u != s:\n",
        "          u = p[v]\n",
        "          f[u][v] += r\n",
        "          f[v][u] -= r\n",
        "          Cr[u][v] = C[u][v] - f[u][v]\n",
        "          Cr[v][u] = C[v][u] - f[v][u]\n",
        "          v = u\n",
        "      # atualiza o caminho p\n",
        "      p = BFS(Cr, s, t, n)\n",
        "\n",
        "    # atualiza o fluxo máximo\n",
        "      F += r\n",
        "      print(r)\n",
        "    return (F, f)"
      ],
      "metadata": {
        "id": "Hea-eulB2PkC"
      },
      "execution_count": 65,
      "outputs": []
    },
    {
      "cell_type": "code",
      "source": [
        "n = 6\n",
        "C = [[0, 16, 13, 0, 0, 0],\n",
        "     [0, 0, 10, 12, 0, 0],\n",
        "     [0, 4, 0, 0, 14, 0],\n",
        "     [0, 0, 9, 0, 0, 20],\n",
        "     [0, 0, 0, 7, 0, 4],\n",
        "     [0, 0, 0 ,0, 0, 0]]\n",
        "(F, f) = fulkerson(C, 0, 5, n)\n",
        "print(F)"
      ],
      "metadata": {
        "id": "SVM2enmo2R3S"
      },
      "execution_count": null,
      "outputs": []
    }
  ]
}