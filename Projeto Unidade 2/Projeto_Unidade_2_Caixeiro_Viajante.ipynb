{
  "nbformat": 4,
  "nbformat_minor": 0,
  "metadata": {
    "colab": {
      "provenance": []
    },
    "kernelspec": {
      "name": "python3",
      "display_name": "Python 3"
    },
    "language_info": {
      "name": "python"
    }
  },
  "cells": [
    {
      "cell_type": "code",
      "execution_count": null,
      "metadata": {
        "id": "WtugoJzUwXQC"
      },
      "outputs": [],
      "source": [
        "import numpy as np\n",
        "from itertools import permutations\n",
        "\n",
        "def calculate_distance(a, b):\n",
        "    # Calcula a distância Euclidiana entre dois pontos a e b\n",
        "    return np.linalg.norm(a - b)\n",
        "\n",
        "def branch_and_bound_vrp(locations, num_vehicles):\n",
        "    num_locations = len(locations)\n",
        "    best_distance = float('inf')\n",
        "    best_route = None\n",
        "\n",
        "    def backtrack(route, remaining_locations, current_distance):\n",
        "        nonlocal best_distance, best_route\n",
        "\n",
        "        if not remaining_locations:\n",
        "            # Verifica se a rota atual é melhor do que a melhor rota encontrada até agora\n",
        "            if current_distance < best_distance:\n",
        "                best_distance = current_distance\n",
        "                best_route = route[:]\n",
        "            return\n",
        "\n",
        "        # Estima o limite inferior da função objetivo para a subárvore\n",
        "        lower_bound = current_distance + min(calculate_distance(route[-1], location) for location in remaining_locations)\n",
        "\n",
        "        if lower_bound >= best_distance:\n",
        "            # Podamos a subárvore caso o limite inferior seja maior ou igual à melhor distância encontrada\n",
        "            return\n",
        "\n",
        "        for i, location in enumerate(remaining_locations):\n",
        "            remaining_locations_copy = remaining_locations[:]\n",
        "            remaining_locations_copy.pop(i)\n",
        "            backtrack(route + [location], remaining_locations_copy, current_distance + calculate_distance(route[-1], location))\n",
        "\n",
        "    # Inicialização do algoritmo\n",
        "    starting_location = locations[0]\n",
        "    remaining_locations = locations[1:]\n",
        "\n",
        "    # Aplicação do Branch and Bound\n",
        "    for perm in permutations(remaining_locations):\n",
        "        route = [starting_location] + list(perm) + [starting_location]\n",
        "        backtrack(route, list(perm), calculate_distance(starting_location, perm[0]))\n",
        "\n",
        "    return best_route, best_distance\n",
        "\n",
        "# Exemplo de utilização\n",
        "locations = np.array([[10, 4], [2, 0], [6, 4], [8, 4]])  # Coordenadas dos locais a serem visitados\n",
        "num_vehicles = 1  # Número de veículos disponíveis\n",
        "\n",
        "best_route, best_distance = branch_and_bound_vrp(locations, num_vehicles)\n",
        "print(\"Melhor rota:\", best_route)\n",
        "print(\"Melhor distância:\", best_distance)"
      ]
    }
  ]
}