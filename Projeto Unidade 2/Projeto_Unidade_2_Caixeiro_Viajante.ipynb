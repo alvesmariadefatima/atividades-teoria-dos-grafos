{
  "nbformat": 4,
  "nbformat_minor": 0,
  "metadata": {
    "colab": {
      "provenance": []
    },
    "kernelspec": {
      "name": "python3",
      "display_name": "Python 3"
    },
    "language_info": {
      "name": "python"
    }
  },
  "cells": [
    {
      "cell_type": "code",
      "execution_count": null,
      "metadata": {
        "id": "WtugoJzUwXQC"
      },
      "outputs": [],
      "source": [
        "import numpy as np\n",
        "import sys\n",
        "\n",
        "class TSP:\n",
        "    def __init__(self, num_cities, matrix):\n",
        "        self.num_cities = num_cities\n",
        "        self.matrix = np.array(matrix)\n",
        "        self.visited = [False] * num_cities\n",
        "        self.min_cost = sys.maxsize\n",
        "        self.best_path = []\n",
        "  \n",
        "    def tsp_branch_and_bound(self):\n",
        "        path = [0]\n",
        "        self.visited[0] = True\n",
        "        self.branch_and_bound(0, path, 0, 1)\n",
        "        return self.best_path\n",
        "  \n",
        "    def branch_and_bound(self, curr_city, path, cost, level):\n",
        "        if level == self.num_cities:\n",
        "            if self.matrix[curr_city][0] != 0:\n",
        "                curr_cost = cost + self.matrix[curr_city][0]\n",
        "                if curr_cost < self.min_cost:\n",
        "                    self.min_cost = curr_cost\n",
        "                    path.append(0)\n",
        "                    self.best_path = path.copy()\n",
        "                    path.pop()\n",
        "        else:\n",
        "            for i in range(self.num_cities):\n",
        "                if not self.visited[i] and self.matrix[curr_city][i] != 0:\n",
        "                    path.append(i)\n",
        "                    self.visited[i] = True\n",
        "                    self.branch_and_bound(i, path, cost + self.matrix[curr_city][i], level + 1)\n",
        "                    path.pop()\n",
        "                    self.visited[i] = False\n",
        "\n",
        "# Matriz de pesos\n",
        "M = [\n",
        "    [0, 14, 25, 11, 14, 14, 8, 6, 23, 26, 24, 20, 11, 26, 14, 20, 11],\n",
        "    [25, 0, 26, 18, 25, 25, 11, 13, 27, 14, 16, 21, 7, 27, 22, 5, 5],\n",
        "    [23, 18, 0, 6, 29, 10, 21, 19, 20, 15, 9, 15, 13, 14, 15, 25, 10],\n",
        "    [18, 12, 5, 0, 16, 21, 11, 29, 10, 5, 24, 21, 10, 15, 6, 7, 15],\n",
        "    [20, 21, 25, 28, 0, 20, 26, 12, 29, 8, 10, 18, 8, 13, 14, 27, 8],\n",
        "    [20, 29, 12, 15, 10, 0, 24, 24, 17, 11, 26, 8, 21, 23, 17, 10, 25],\n",
        "    [26, 6, 20, 5, 11, 26, 0, 12, 27, 10, 26, 17, 13, 29, 12, 22, 25],\n",
        "    [16, 19, 28, 18, 9, 8, 7, 0, 21, 13, 8, 13, 24, 12, 19, 21, 22],\n",
        "    [18, 11, 14, 29, 17, 20, 11, 29, 0, 29, 8, 7, 12, 17, 7, 29, 8],\n",
        "    [6, 28, 20, 23, 22, 12, 15, 9, 26, 0, 9, 26, 5, 20, 12, 7, 21],\n",
        "    [27, 5, 27, 10, 24, 22, 15, 20, 16, 11, 0, 22, 23, 23, 5, 26, 19],\n",
        "    [19, 21, 21, 13, 18, 6, 9, 16, 21, 12, 15, 0, 29, 20, 29, 27, 24],\n",
        "    [6, 26, 29, 20, 29, 23, 6, 5, 13, 19, 10, 14, 0, 18, 9, 19, 15],\n",
        "    [10, 9, 13, 16, 16, 5, 10, 28, 17, 20, 24, 29, 28, 0, 27, 21, 26],\n",
        "    [18, 10, 29, 27, 22, 9, 24, 28, 26, 29, 12, 20, 9, 13, 0, 22, 15],\n",
        "    [20, 16, 11, 0, 22, 23, 27, 5, 26, 19, 19, 21, 21, 13, 18, 6, 9],\n",
        "    [16, 21, 12, 15, 0, 29, 20, 29, 27, 24, 6, 26, 29, 20, 29, 23, 6],\n",
        "    [5, 10, 9, 13, 16, 16, 5, 10, 28, 17, 20, 24, 29, 28, 0, 27, 21],\n",
        "    [26, 18, 10, 29, 27, 22, 9, 24, 28, 26, 29, 12, 20, 9, 13, 0, 22],\n",
        "    [23, 23, 5, 26, 19, 19, 21, 21, 13, 18, 6, 9, 16, 21, 12, 15, 0]\n",
        "]\n",
        "\n",
        "tsp = TSP(17, M)\n",
        "solution = tsp.tsp_branch_and_bound()\n",
        "print(\"Melhor caminho encontrado:\", solution)\n",
        "print(\"Custo mínimo:\", tsp.min_cost)"
      ]
    }
  ]
}