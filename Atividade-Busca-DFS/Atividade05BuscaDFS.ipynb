{
  "nbformat": 4,
  "nbformat_minor": 0,
  "metadata": {
    "colab": {
      "provenance": []
    },
    "kernelspec": {
      "name": "python3",
      "display_name": "Python 3"
    },
    "language_info": {
      "name": "python"
    }
  },
  "cells": [
    {
      "cell_type": "code",
      "execution_count": null,
      "metadata": {
        "id": "khN5Y4WvjN8D"
      },
      "outputs": [],
      "source": [
        "import random\n",
        "\n",
        "L=[]\n",
        "\n",
        "for i in range(15):\n",
        "    L.append([])\n",
        "\n",
        "with open('/content/drive/MyDrive/Arestas - Maria de Fátima Nunes Alves.txt', 'r') as arquivo:\n",
        "    for linha in arquivo:\n",
        "      i, j = map(int, linha.split())\n",
        "      L[i].append(j)\n",
        "      L[j].append(i)\n",
        "      \n",
        "Q = []\n",
        "def P(V):\n",
        "    array[V] = 1\n",
        "    Q.append(V)\n",
        "\n",
        "    for w in L[V]:\n",
        "      if(array[w] == 0):\n",
        "        print(w)\n",
        "        P(w)\n",
        "    Q.pop()\n",
        "array = [0, 0, 0, 0, 0, 0, 0, 0, 0, 0, 0 ,0, 0, 0, 0]\n",
        "r = 0\n",
        "P(r)"
      ]
    }
  ]
}