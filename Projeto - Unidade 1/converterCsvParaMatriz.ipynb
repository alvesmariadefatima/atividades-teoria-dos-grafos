{
  "nbformat": 4,
  "nbformat_minor": 0,
  "metadata": {
    "colab": {
      "provenance": []
    },
    "kernelspec": {
      "name": "python3",
      "display_name": "Python 3"
    },
    "language_info": {
      "name": "python"
    }
  },
  "cells": [
    {
      "cell_type": "code",
      "execution_count": null,
      "metadata": {
        "id": "yK4xwqCwSrU5"
      },
      "outputs": [],
      "source": [
        "import csv\n",
        "\n",
        "# Abre o arquivo CSV\n",
        "\n",
        "L=[]\n",
        "for i in range(700):\n",
        "    L.append([])\n",
        "\n",
        "with open('/content/drive/MyDrive/Arquivo Projeto 1 - Maria de Fátima Nunes Alves.txt', 'r') as arquivo:\n",
        "    for linha in arquivo:\n",
        "        numeros = linha.split()\n",
        "        valor1 = int(numeros[0])\n",
        "        valor2 = int(numeros[1])\n",
        "\n",
        "        L[valor1].append(valor2)\n",
        "        L[valor2].append(valor1)\n",
        "\n",
        "Q = []\n",
        "array = [0]*700\n",
        "pai = [0]*700\n",
        "\n",
        "def P(V):\n",
        "    array[V] = 1\n",
        "    Q.append(V)\n",
        "\n",
        "    for w in L[V]:\n",
        "        if(array[w] == 0):\n",
        "            pai[w] = V\n",
        "            P(w)\n",
        "    Q.pop()\n",
        "\n",
        "r = 0\n",
        "P(r)\n",
        "\n",
        "caminho = \" \"\n",
        "\n",
        "for i in range(len(pai)):\n",
        "    caminho += str(pai[i])\n",
        "    if i < len(pai)-1:\n",
        "        caminho += \" -> \"\n",
        "print(caminho)"
      ]
    }
  ]
}