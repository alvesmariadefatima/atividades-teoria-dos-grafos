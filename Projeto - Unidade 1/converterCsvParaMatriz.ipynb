from csv import reader

# Abre o arquivo CSV

L=[]
for i in range(700):
    L.append([])

with open('/content/drive/MyDrive/Arestas - Maria de Fátima Nunes Alves.txt', 'r') as arquivo:

    csvreader = csv.reader(arquivo, delimiter=',')

    for linha in csvreader:
        valor1 = int(linha[0].split(" ")[0])
        valor2 = int(linha[0].split(" ")[1])
        
        L[valor1].append(valor2)
        L[valor2].append(valor1)

Q = []
array = [0]*700
pai = [None]*700

def P(V):
    array[V] = 1
    Q.append(V)

    for w in L[V]:
        if(array[w] == 0):
            pai[w] = V
            P(w)
    Q.pop()

r = 0
P(r)

V = 699
print(V)
p = pai[V]

while(p != None):
  print(p)
  p = pai[p]

caminho = " "

for i in range(len(pai)):
    caminho += str(pai[i])
    if i < len(pai)-1:
        caminho += " -> "
print(caminho)
